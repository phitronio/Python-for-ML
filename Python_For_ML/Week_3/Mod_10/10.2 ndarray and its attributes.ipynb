{
 "cells": [
  {
   "cell_type": "code",
   "id": "initial_id",
   "metadata": {
    "collapsed": true,
    "ExecuteTime": {
     "end_time": "2025-10-31T09:32:22.102554Z",
     "start_time": "2025-10-31T09:32:22.094694Z"
    }
   },
   "source": [
    "from numpy.conftest import dtype\n",
    "\n",
    "arr = [1,2,3]\n",
    "\n",
    "print(arr * 5)\n",
    "\n",
    "arr = [x*5 for x in arr]\n",
    "print(arr)\n"
   ],
   "outputs": [
    {
     "name": "stdout",
     "output_type": "stream",
     "text": [
      "[1, 2, 3, 1, 2, 3, 1, 2, 3, 1, 2, 3, 1, 2, 3]\n"
     ]
    }
   ],
   "execution_count": 1
  },
  {
   "metadata": {
    "ExecuteTime": {
     "end_time": "2025-10-31T09:53:41.229420Z",
     "start_time": "2025-10-31T09:53:41.120287Z"
    }
   },
   "cell_type": "code",
   "source": [
    "import numpy as np\n",
    "\n",
    "arr = np.array([1,2,3])\n",
    "arr = arr*5\n",
    "print(arr)\n"
   ],
   "id": "8936b7f74042081d",
   "outputs": [
    {
     "name": "stdout",
     "output_type": "stream",
     "text": [
      "[ 5 10 15]\n"
     ]
    }
   ],
   "execution_count": 2
  },
  {
   "metadata": {
    "ExecuteTime": {
     "end_time": "2025-10-31T10:24:04.666556Z",
     "start_time": "2025-10-31T10:24:04.656323Z"
    }
   },
   "cell_type": "code",
   "source": [
    "#Ndarray\n",
    "\n",
    "arr1 = np.array([1,2,3,4,5])\n",
    "#print(type(arr1))\n",
    "print(arr1.ndim)\n",
    "\n",
    "\n",
    "#2d array\n",
    "\n",
    "arr2 = np.array([[1,2,3],\n",
    "                [4,5,6]])\n",
    "\n",
    "print(arr2.ndim)\n",
    "\n",
    "\n",
    "#3d array\n",
    "\n",
    "arr3 = np.array([\n",
    "    [ [1,2,3],\n",
    "      [4,5,6] ],\n",
    "\n",
    "    [ [1,2,3],\n",
    "      [4,5,6] ]\n",
    "\n",
    "])\n",
    "\n",
    "print(arr3.ndim)"
   ],
   "id": "11829fa847ca67af",
   "outputs": [
    {
     "name": "stdout",
     "output_type": "stream",
     "text": [
      "1\n",
      "2\n",
      "3\n"
     ]
    }
   ],
   "execution_count": 7
  },
  {
   "metadata": {
    "ExecuteTime": {
     "end_time": "2025-10-31T10:36:34.345036Z",
     "start_time": "2025-10-31T10:36:34.340935Z"
    }
   },
   "cell_type": "code",
   "source": [
    "print(arr1.ndim)\n",
    "print(arr2.ndim)\n",
    "print(arr3.ndim)\n",
    "\n",
    "#shape\n",
    "print(arr1.shape)\n",
    "print(arr2.shape)\n",
    "print(arr3.shape)\n",
    "\n",
    "#data type\n",
    "print(arr1.dtype)\n",
    "print(arr2.dtype)\n",
    "print(arr3.dtype)\n",
    "\n",
    "#size\n",
    "print(arr1.size)\n",
    "print(arr2.size)\n",
    "print(arr3.size)\n",
    "\n"
   ],
   "id": "264915590a0b7a53",
   "outputs": [
    {
     "name": "stdout",
     "output_type": "stream",
     "text": [
      "1\n",
      "2\n",
      "3\n",
      "(5,)\n",
      "(2, 3)\n",
      "(2, 2, 3)\n",
      "int64\n",
      "int64\n",
      "int64\n",
      "5\n",
      "6\n",
      "12\n"
     ]
    }
   ],
   "execution_count": 11
  },
  {
   "metadata": {
    "ExecuteTime": {
     "end_time": "2025-10-31T10:37:06.628045Z",
     "start_time": "2025-10-31T10:37:06.621496Z"
    }
   },
   "cell_type": "code",
   "source": [
    "#Grok\n",
    "\n",
    "import numpy as np\n",
    "\n",
    "# 1D Array\n",
    "arr1 = np.array([1, 2, 3, 4, 5])\n",
    "print(\"arr1 (1D):\")\n",
    "print(\"  ndim :\", arr1.ndim)      # 1\n",
    "print(\"  shape:\", arr1.shape)     # (5,)\n",
    "print(\"  dtype:\", arr1.dtype)     # int64\n",
    "print(\"  size :\", arr1.size)      # 5\n",
    "print()\n",
    "\n",
    "# 2D Array\n",
    "arr2 = np.array([[1, 2, 3], [4, 5, 6]])\n",
    "print(\"arr2 (2D):\")\n",
    "print(\"  ndim :\", arr2.ndim)      # 2\n",
    "print(\"  shape:\", arr2.shape)     # (2, 3)\n",
    "print(\"  dtype:\", arr2.dtype)     # int64\n",
    "print(\"  size :\", arr2.size)      # 6\n",
    "print()\n",
    "\n",
    "# 3D Array\n",
    "arr3 = np.array([\n",
    "    [[1, 2, 3], [4, 5, 6]],\n",
    "    [[1, 2, 3], [4, 5, 6]]\n",
    "])\n",
    "print(\"arr3 (3D):\")\n",
    "print(\"  ndim :\", arr3.ndim)      # 3\n",
    "print(\"  shape:\", arr3.shape)     # (2, 2, 3)\n",
    "print(\"  dtype:\", arr3.dtype)     # int64\n",
    "print(\"  size :\", arr3.size)      # 12"
   ],
   "id": "d7060e437b98fd7",
   "outputs": [
    {
     "name": "stdout",
     "output_type": "stream",
     "text": [
      "arr1 (1D):\n",
      "  ndim : 1\n",
      "  shape: (5,)\n",
      "  dtype: int64\n",
      "  size : 5\n",
      "\n",
      "arr2 (2D):\n",
      "  ndim : 2\n",
      "  shape: (2, 3)\n",
      "  dtype: int64\n",
      "  size : 6\n",
      "\n",
      "arr3 (3D):\n",
      "  ndim : 3\n",
      "  shape: (2, 2, 3)\n",
      "  dtype: int64\n",
      "  size : 12\n"
     ]
    }
   ],
   "execution_count": 12
  }
 ],
 "metadata": {
  "kernelspec": {
   "display_name": "Python 3",
   "language": "python",
   "name": "python3"
  },
  "language_info": {
   "codemirror_mode": {
    "name": "ipython",
    "version": 2
   },
   "file_extension": ".py",
   "mimetype": "text/x-python",
   "name": "python",
   "nbconvert_exporter": "python",
   "pygments_lexer": "ipython2",
   "version": "2.7.6"
  }
 },
 "nbformat": 4,
 "nbformat_minor": 5
}
