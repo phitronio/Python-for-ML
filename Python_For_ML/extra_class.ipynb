{
 "cells": [
  {
   "cell_type": "code",
   "id": "initial_id",
   "metadata": {
    "collapsed": true,
    "ExecuteTime": {
     "end_time": "2025-10-30T11:19:54.475894Z",
     "start_time": "2025-10-30T11:19:47.322831Z"
    }
   },
   "source": [
    "n= int(input())\n",
    "print(type(n))\n",
    "\n",
    "arr = list(map(lambda x: int(x), input().split() ))\n",
    "\n",
    "print(arr)"
   ],
   "outputs": [
    {
     "name": "stdout",
     "output_type": "stream",
     "text": [
      "<class 'int'>\n",
      "[1, 2, 3, 4, 5]\n"
     ]
    }
   ],
   "execution_count": 6
  },
  {
   "metadata": {
    "ExecuteTime": {
     "end_time": "2025-10-30T11:21:54.779075Z",
     "start_time": "2025-10-30T11:21:48.382373Z"
    }
   },
   "cell_type": "code",
   "source": [
    "n= int(input())\n",
    "print(type(n))\n",
    "\n",
    "arr = list(map( int, input().split() ))\n",
    "\n",
    "print(arr)"
   ],
   "id": "1a400c68bc6ec73a",
   "outputs": [
    {
     "name": "stdout",
     "output_type": "stream",
     "text": [
      "<class 'int'>\n",
      "[1, 2, 3, 4, 5]\n"
     ]
    }
   ],
   "execution_count": 7
  },
  {
   "metadata": {
    "ExecuteTime": {
     "end_time": "2025-10-30T11:38:19.888914Z",
     "start_time": "2025-10-30T11:38:17.675282Z"
    }
   },
   "cell_type": "code",
   "source": [
    "row = input()           # \"35\"\n",
    "x = int(row[0])         # 3\n",
    "y = int(row[1])         # 5\n",
    "print(x, y)"
   ],
   "id": "47f6836b172b7672",
   "outputs": [
    {
     "name": "stdout",
     "output_type": "stream",
     "text": [
      "3 3\n"
     ]
    }
   ],
   "execution_count": 27
  },
  {
   "metadata": {
    "ExecuteTime": {
     "end_time": "2025-10-30T11:36:38.785198Z",
     "start_time": "2025-10-30T11:36:35.124991Z"
    }
   },
   "cell_type": "code",
   "source": [
    "# Example input you should type:\n",
    "# 3 7\n",
    "row, col = input().split()      # splits \"3 7\" → ['3', '7']\n",
    "row = int(row)                  # → 3\n",
    "col = int(col)                  # → 7\n",
    "print(row, col)                 # 3 7"
   ],
   "id": "c09964d13fbeb4e3",
   "outputs": [
    {
     "name": "stdout",
     "output_type": "stream",
     "text": [
      "2 3\n"
     ]
    }
   ],
   "execution_count": 18
  },
  {
   "metadata": {
    "ExecuteTime": {
     "end_time": "2025-10-30T11:43:07.080041Z",
     "start_time": "2025-10-30T11:42:45.004298Z"
    }
   },
   "cell_type": "code",
   "source": [
    "row, col = map(int, input().split())\n",
    "\n",
    "matrix = []\n",
    "for _ in range(row):\n",
    "    arr = list(map(int, input().split()))\n",
    "    matrix.append(arr)\n",
    "    print(matrix)\n"
   ],
   "id": "413bb65bebc8b7c5",
   "outputs": [
    {
     "name": "stdout",
     "output_type": "stream",
     "text": [
      "[[1, 2, 3]]\n",
      "[[1, 2, 3], [4, 5, 6]]\n",
      "[[1, 2, 3], [4, 5, 6], [7, 8, 9]]\n"
     ]
    }
   ],
   "execution_count": 30
  },
  {
   "metadata": {
    "ExecuteTime": {
     "end_time": "2025-10-30T11:48:33.831111Z",
     "start_time": "2025-10-30T11:48:15.099694Z"
    }
   },
   "cell_type": "code",
   "source": [
    "str = input().split()\n",
    "print(str)\n",
    "\n",
    "if str[0] == 'Student':\n",
    "    print(\"Type:\", str[0])\n",
    "    print(\"Name:\", str[1])\n",
    "    print(\"Roll:\", str[2])\n",
    "    print(\"Class:\", str[3])\n",
    "else:\n",
    "    print(\"Type:\", str[0])\n",
    "    print(\"Name:\", str[1])\n",
    "    print(\"Teaching Class:\", str[2])"
   ],
   "id": "794c1af7e1488462",
   "outputs": [
    {
     "name": "stdout",
     "output_type": "stream",
     "text": [
      "['Teacher', 'Imran', 'CSE']\n",
      "Type: Teacher\n",
      "Name: Imran\n",
      "Teaching Class: CSE\n"
     ]
    }
   ],
   "execution_count": 32
  },
  {
   "metadata": {},
   "cell_type": "markdown",
   "source": "section 1",
   "id": "b37d37f496ae8aaa"
  },
  {
   "metadata": {
    "ExecuteTime": {
     "end_time": "2025-10-30T11:51:29.982778Z",
     "start_time": "2025-10-30T11:51:22.074367Z"
    }
   },
   "cell_type": "code",
   "source": [
    "#1\n",
    "str = input().split()\n",
    "\n",
    "for s in str:\n",
    "    print(s,\"lengths are:\", len(s))"
   ],
   "id": "ae293a94010bfd81",
   "outputs": [
    {
     "name": "stdout",
     "output_type": "stream",
     "text": [
      "ert\n"
     ]
    }
   ],
   "execution_count": 33
  },
  {
   "metadata": {
    "ExecuteTime": {
     "end_time": "2025-10-30T11:56:53.613821Z",
     "start_time": "2025-10-30T11:56:38.526862Z"
    }
   },
   "cell_type": "code",
   "source": [
    "#2\n",
    "str = input().split()\n",
    "\n",
    "ans = len(str[0])\n",
    "for s in str:\n",
    "    if ans > len(s):\n",
    "        ans = len(s)\n",
    "print(ans)"
   ],
   "id": "45e621e1459333d3",
   "outputs": [
    {
     "name": "stdout",
     "output_type": "stream",
     "text": [
      "4\n"
     ]
    }
   ],
   "execution_count": 38
  },
  {
   "metadata": {
    "ExecuteTime": {
     "end_time": "2025-10-30T11:58:39.517494Z",
     "start_time": "2025-10-30T11:58:27.679901Z"
    }
   },
   "cell_type": "code",
   "source": [
    "#3\n",
    "str = input().split()\n",
    "\n",
    "for s in str:\n",
    "    if s[0].isupper() and len(s)>=5:\n",
    "        print(s)\n"
   ],
   "id": "b8609bd329a991f5",
   "outputs": [
    {
     "name": "stdout",
     "output_type": "stream",
     "text": [
      "Word\n",
      "Bord\n"
     ]
    }
   ],
   "execution_count": 39
  },
  {
   "metadata": {},
   "cell_type": "markdown",
   "source": "section 2",
   "id": "bf521896f0c9e43c"
  },
  {
   "metadata": {
    "ExecuteTime": {
     "end_time": "2025-10-30T12:11:40.971708Z",
     "start_time": "2025-10-30T12:11:34.950774Z"
    }
   },
   "cell_type": "code",
   "source": [
    "num = int(input())\n",
    "ans = 1\n",
    "\n",
    "while(num!=0):\n",
    "      r = num%10\n",
    "      num = int(num/10)\n",
    "      ans = ans * r\n",
    "print(ans)"
   ],
   "id": "39ca39985115dedc",
   "outputs": [
    {
     "name": "stdout",
     "output_type": "stream",
     "text": [
      "15\n"
     ]
    }
   ],
   "execution_count": 46
  },
  {
   "metadata": {},
   "cell_type": "markdown",
   "source": "section 3",
   "id": "c4ca75920446b382"
  },
  {
   "metadata": {
    "ExecuteTime": {
     "end_time": "2025-10-30T12:41:57.982331Z",
     "start_time": "2025-10-30T12:41:49.252023Z"
    }
   },
   "cell_type": "code",
   "source": [
    "# Base class\n",
    "class Calculator:\n",
    "  def __init__(self, a, b):\n",
    "    self.a = a\n",
    "    self.b = b\n",
    "\n",
    "  def compute(self):\n",
    "    print(\"Not choosing the calculation type\")\n",
    "\n",
    "\n",
    "class Addition(Calculator):\n",
    "  def __init__(self, a, b):\n",
    "    super().__init__(a, b)\n",
    "\n",
    "  def compute(self):\n",
    "    return self.a + self.b\n",
    "\n",
    "\n",
    "class Multiplication(Calculator):\n",
    "  def __init__(self, a, b):\n",
    "    super().__init__(a, b)\n",
    "\n",
    "  def compute(self):\n",
    "    if self.a < 0 or self.b <0:\n",
    "      raise ValueError(\"The Multiplication not possible with negative value!\")\n",
    "    return self.a * self.b\n",
    "\n",
    "\n",
    "str = input().split()\n",
    "\n",
    "print(str)\n",
    "\n",
    "try:\n",
    "  if str[0]=='Addition':\n",
    "    a = int(str[1])\n",
    "    b = int(str[2])\n",
    "    obj = Addition(a, b)\n",
    "    print(\"The Addition is:\", obj.compute())\n",
    "\n",
    "  elif str[0]=='Multiplication':\n",
    "    a = int(str[1])\n",
    "    b = int(str[2])\n",
    "    obj = Multiplication(a, b)\n",
    "    print(\"The Multiplication is:\", obj.compute())\n",
    "  else:\n",
    "    a = int(str[0])\n",
    "    b = int(str[1])\n",
    "    # Calculator(a, b).compute()\n",
    "    obj = Calculator(a,b)\n",
    "    obj.compute()\n",
    "\n",
    "except ValueError as e:\n",
    "  print(f\"Error: {e}\")\n",
    "\n",
    "\n",
    "\n",
    "print(\"hello wordl\")"
   ],
   "id": "4bee17e755a75959",
   "outputs": [],
   "execution_count": 47
  }
 ],
 "metadata": {
  "kernelspec": {
   "display_name": "Python 3",
   "language": "python",
   "name": "python3"
  },
  "language_info": {
   "codemirror_mode": {
    "name": "ipython",
    "version": 2
   },
   "file_extension": ".py",
   "mimetype": "text/x-python",
   "name": "python",
   "nbconvert_exporter": "python",
   "pygments_lexer": "ipython2",
   "version": "2.7.6"
  }
 },
 "nbformat": 4,
 "nbformat_minor": 5
}
