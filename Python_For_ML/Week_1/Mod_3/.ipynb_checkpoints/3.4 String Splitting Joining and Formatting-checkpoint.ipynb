{
 "cells": [
  {
   "cell_type": "code",
   "execution_count": 9,
   "id": "97e4abcf-e009-4150-b60d-096fb227bbb8",
   "metadata": {},
   "outputs": [
    {
     "name": "stdout",
     "output_type": "stream",
     "text": [
      "['what', ' is ', 'python?']\n",
      "what_ is _python?\n"
     ]
    }
   ],
   "source": [
    "prompt = \"what, is ,python?\"\n",
    "tokens = prompt.split(\",\")\n",
    "print(tokens)\n",
    "\n",
    "sentence = \"_\".join(tokens)\n",
    "print(sentence)"
   ]
  },
  {
   "cell_type": "code",
   "execution_count": 11,
   "id": "ddf215aa-e530-4d99-af47-673fb99e1f4a",
   "metadata": {},
   "outputs": [
    {
     "name": "stdout",
     "output_type": "stream",
     "text": [
      "his name is IMRAN, he is 33 old. he is 5.9 feet\n",
      "the model accuricy is83.33%\n"
     ]
    }
   ],
   "source": [
    "name = \"imran\"\n",
    "age = 33\n",
    "height = 5.9\n",
    "info = f\"his name is {name.upper()}, he is {age} old. he is {height:.3} feet\"\n",
    "print(info)\n",
    "model_accuricy = 0.8333\n",
    "print(f\"the model accuricy is {model_accuricy:.2%}\")"
   ]
  },
  {
   "cell_type": "code",
   "execution_count": null,
   "id": "a9c93d3f-f921-4876-9946-9a95d3db8cda",
   "metadata": {},
   "outputs": [],
   "source": []
  }
 ],
 "metadata": {
  "kernelspec": {
   "display_name": "Python [conda env:base] *",
   "language": "python",
   "name": "conda-base-py"
  },
  "language_info": {
   "codemirror_mode": {
    "name": "ipython",
    "version": 3
   },
   "file_extension": ".py",
   "mimetype": "text/x-python",
   "name": "python",
   "nbconvert_exporter": "python",
   "pygments_lexer": "ipython3",
   "version": "3.13.5"
  }
 },
 "nbformat": 4,
 "nbformat_minor": 5
}
