{
 "cells": [
  {
   "cell_type": "code",
   "execution_count": 2,
   "metadata": {},
   "outputs": [
    {
     "name": "stdout",
     "output_type": "stream",
     "text": [
      "['APPLE ', 'ORANGE', 'LICHI']\n"
     ]
    }
   ],
   "source": [
    "fruits = ['apple ', 'orange', 'lichi']\n",
    "\n",
    "upper_fruits=[]\n",
    "\n",
    "for fruits in fruits:\n",
    "    upper_fruits.append(fruits.upper())\n",
    "\n",
    "print(upper_fruits)"
   ]
  }
 ],
 "metadata": {
  "kernelspec": {
   "display_name": "Python 3",
   "language": "python",
   "name": "python3"
  },
  "language_info": {
   "codemirror_mode": {
    "name": "ipython",
    "version": 3
   },
   "file_extension": ".py",
   "mimetype": "text/x-python",
   "name": "python",
   "nbconvert_exporter": "python",
   "pygments_lexer": "ipython3",
   "version": "3.13.7"
  }
 },
 "nbformat": 4,
 "nbformat_minor": 2
}
