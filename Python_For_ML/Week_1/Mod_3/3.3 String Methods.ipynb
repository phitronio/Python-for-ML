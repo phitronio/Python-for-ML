{
 "cells": [
  {
   "cell_type": "code",
   "execution_count": 18,
   "id": "4618e959-3d1c-43f5-866a-07747ecb448b",
   "metadata": {},
   "outputs": [
    {
     "name": "stdout",
     "output_type": "stream",
     "text": [
      "abcd_Imran\n",
      "10\n",
      "True\n",
      "abcd_emran\n",
      "5\n"
     ]
    }
   ],
   "source": [
    "string = \"abcd_Imran\"\n",
    "processed_string1 = string.lower()\n",
    "print(processed_string)\n",
    "print(len(string))\n",
    "print(\"Imran\" in string)\n",
    "\n",
    "processed_string=string.replace(\"I\",\"e\")\n",
    "print(processed_string)\n",
    "\n",
    "index = processed_string1.find(\"i\")\n",
    "print(index)\n",
    "\n"
   ]
  },
  {
   "cell_type": "code",
   "execution_count": null,
   "id": "aac0827f-8ce0-4cda-9f08-39ae4d8959d4",
   "metadata": {},
   "outputs": [],
   "source": []
  }
 ],
 "metadata": {
  "kernelspec": {
   "display_name": "Python [conda env:base] *",
   "language": "python",
   "name": "conda-base-py"
  },
  "language_info": {
   "codemirror_mode": {
    "name": "ipython",
    "version": 3
   },
   "file_extension": ".py",
   "mimetype": "text/x-python",
   "name": "python",
   "nbconvert_exporter": "python",
   "pygments_lexer": "ipython3",
   "version": "3.13.5"
  }
 },
 "nbformat": 4,
 "nbformat_minor": 5
}
