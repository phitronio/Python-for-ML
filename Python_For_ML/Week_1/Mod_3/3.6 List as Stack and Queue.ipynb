{
 "cells": [
  {
   "cell_type": "code",
   "execution_count": 5,
   "metadata": {},
   "outputs": [
    {
     "name": "stdout",
     "output_type": "stream",
     "text": [
      "[20, 30, 40, 50, 60, 70, 100, 2000]\n",
      "[2000, 100, 70, 60, 50, 40, 30, 20]\n",
      "[2000, 100, 70, 60, 50, 40, 30, 20]\n"
     ]
    }
   ],
   "source": [
    "numbers = [100,20,30,40,50,60,70,2000]\n",
    "\n",
    "numbers.sort()\n",
    "print(numbers)\n",
    "\n",
    "numbers.reverse()\n",
    "print(numbers)\n",
    "\n",
    "numbers.sort(reverse=True)\n",
    "print(numbers)"
   ]
  },
  {
   "cell_type": "code",
   "execution_count": 11,
   "metadata": {},
   "outputs": [
    {
     "name": "stdout",
     "output_type": "stream",
     "text": [
      "4\n",
      "3\n",
      "2\n"
     ]
    }
   ],
   "source": [
    "list =[]\n",
    "\n",
    "list.append(1)\n",
    "list.append(2)\n",
    "list.append(3)\n",
    "list.append(4)\n",
    "\n",
    "print(list.pop())\n",
    "print(list.pop())\n",
    "print(list.pop())\n",
    "\n",
    "#print(len(list))"
   ]
  },
  {
   "cell_type": "code",
   "execution_count": 12,
   "metadata": {},
   "outputs": [
    {
     "name": "stdout",
     "output_type": "stream",
     "text": [
      "4\n",
      "3\n",
      "2\n"
     ]
    }
   ],
   "source": [
    "stack =[]\n",
    "\n",
    "stack.append(1)\n",
    "stack.append(2)\n",
    "stack.append(3)\n",
    "stack.append(4)\n",
    "\n",
    "print(stack.pop())\n",
    "print(stack.pop())\n",
    "print(stack.pop())"
   ]
  },
  {
   "cell_type": "code",
   "execution_count": 17,
   "metadata": {},
   "outputs": [
    {
     "name": "stdout",
     "output_type": "stream",
     "text": [
      "1\n",
      "4\n",
      "3\n",
      "2\n",
      "[]\n"
     ]
    }
   ],
   "source": [
    "queue =[]\n",
    "\n",
    "queue.append(1)\n",
    "queue.append(2)\n",
    "queue.append(3)\n",
    "queue.append(4)\n",
    "\n",
    "print(queue.pop(0))\n",
    "print(queue.pop())\n",
    "print(queue.pop())\n",
    "\n",
    "print(queue[0])\n",
    "\n",
    "queue.pop(0)\n",
    "print(queue)"
   ]
  }
 ],
 "metadata": {
  "kernelspec": {
   "display_name": "Python 3",
   "language": "python",
   "name": "python3"
  },
  "language_info": {
   "codemirror_mode": {
    "name": "ipython",
    "version": 3
   },
   "file_extension": ".py",
   "mimetype": "text/x-python",
   "name": "python",
   "nbconvert_exporter": "python",
   "pygments_lexer": "ipython3",
   "version": "3.13.7"
  }
 },
 "nbformat": 4,
 "nbformat_minor": 2
}
