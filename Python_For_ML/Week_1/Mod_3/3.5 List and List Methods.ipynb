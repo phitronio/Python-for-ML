{
 "cells": [
  {
   "cell_type": "code",
   "execution_count": 1,
   "id": "7bc47022-ae92-4773-b6d6-7c822c4eadad",
   "metadata": {},
   "outputs": [
    {
     "name": "stdout",
     "output_type": "stream",
     "text": [
      "30\n",
      "[100, 20, 30]\n",
      "[100, 20, 30, 40]\n",
      "[33, 100, 20, 30, 40]\n",
      "[33, 100, 20, 30]\n",
      "[20, 30, 33, 100]\n"
     ]
    }
   ],
   "source": [
    "numbers = [100,20,30,40]\n",
    "\n",
    "print(numbers[2])\n",
    "\n",
    "new_list = numbers[0:3]\n",
    "print(new_list)\n",
    "\n",
    "new_list.append(3)\n",
    "print(numbers)\n",
    "\n",
    "numbers.insert(0,33)\n",
    "print(numbers)\n",
    "\n",
    "numbers.pop()\n",
    "print(numbers)\n",
    "\n",
    "numbers.sort()\n",
    "print(numbers)"
   ]
  }
 ],
 "metadata": {
  "kernelspec": {
   "display_name": "Python 3",
   "language": "python",
   "name": "python3"
  },
  "language_info": {
   "codemirror_mode": {
    "name": "ipython",
    "version": 3
   },
   "file_extension": ".py",
   "mimetype": "text/x-python",
   "name": "python",
   "nbconvert_exporter": "python",
   "pygments_lexer": "ipython3",
   "version": "3.13.7"
  }
 },
 "nbformat": 4,
 "nbformat_minor": 5
}
