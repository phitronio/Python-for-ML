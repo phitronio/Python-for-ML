{
 "cells": [
  {
   "cell_type": "code",
   "execution_count": 1,
   "metadata": {},
   "outputs": [
    {
     "name": "stdout",
     "output_type": "stream",
     "text": [
      "<class 'set'>\n"
     ]
    }
   ],
   "source": [
    "A ={1,2,3}\n",
    "\n",
    "print(type(A))"
   ]
  },
  {
   "cell_type": "code",
   "execution_count": 6,
   "metadata": {},
   "outputs": [
    {
     "name": "stdout",
     "output_type": "stream",
     "text": [
      "yes\n",
      "15\n"
     ]
    }
   ],
   "source": [
    "s={1,2,3,4,5}\n",
    "\n",
    "if(3 in s):\n",
    "    print(\"yes\")\n",
    "else:\n",
    "    print(\"no\")\n",
    "\n",
    "sum=0\n",
    "for element in s:\n",
    "    sum+= element\n",
    "print(sum)"
   ]
  },
  {
   "cell_type": "code",
   "execution_count": 8,
   "metadata": {},
   "outputs": [
    {
     "name": "stdout",
     "output_type": "stream",
     "text": [
      "{99, 4, 5, 6, 7, 8, 999, 2222}\n",
      "{5, 6, 7, 8, 999, 2222}\n"
     ]
    }
   ],
   "source": [
    "S={4,5,5,6,7,8,99,999}\n",
    "S.add(2222)\n",
    "print(S)\n",
    "\n",
    "S.pop()\n",
    "S.pop()\n",
    "print(S)"
   ]
  },
  {
   "cell_type": "code",
   "execution_count": 11,
   "metadata": {},
   "outputs": [
    {
     "name": "stdout",
     "output_type": "stream",
     "text": [
      "{1, 2, 3, 4, 5, 6}\n",
      "{2, 3, 4, 5}\n",
      "False\n",
      "False\n"
     ]
    }
   ],
   "source": [
    "a={1,2,3,4,5}\n",
    "b={2,3,4,5,6}\n",
    "\n",
    "print(a.union(b))\n",
    "print(a.intersection(b))\n",
    "\n",
    "print(a.isdisjoint(b))\n",
    "print(a.issubset(b))"
   ]
  }
 ],
 "metadata": {
  "kernelspec": {
   "display_name": "base",
   "language": "python",
   "name": "python3"
  },
  "language_info": {
   "codemirror_mode": {
    "name": "ipython",
    "version": 3
   },
   "file_extension": ".py",
   "mimetype": "text/x-python",
   "name": "python",
   "nbconvert_exporter": "python",
   "pygments_lexer": "ipython3",
   "version": "3.13.5"
  }
 },
 "nbformat": 4,
 "nbformat_minor": 2
}
