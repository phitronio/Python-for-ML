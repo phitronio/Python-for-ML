{
 "cells": [
  {
   "cell_type": "code",
   "execution_count": 5,
   "metadata": {},
   "outputs": [
    {
     "name": "stdout",
     "output_type": "stream",
     "text": [
      "<class 'dict'>\n",
      "<class 'dict'> {'name': 'Phi', 'age': 33, 'address': 'dhaka,', 'number': [23, 44, 55]}\n"
     ]
    }
   ],
   "source": [
    "dic = {}\n",
    "\n",
    "print(type(dic))\n",
    "\n",
    "dic={\"name\" : \"Phi\", \"age\":20, \"address\": \"dhaka,\", \"number\":[23,44,55], \"age\":33}\n",
    "\n",
    "print(type(dic),dic)"
   ]
  },
  {
   "cell_type": "code",
   "execution_count": 6,
   "metadata": {},
   "outputs": [
    {
     "name": "stdout",
     "output_type": "stream",
     "text": [
      "[23, 44, 55]\n",
      "33\n",
      "{'name': 'Phitron', 'age': 33, 'address': 'dhaka,', 'number': [23, 44, 55]}\n"
     ]
    }
   ],
   "source": [
    "print(dic[\"number\"])\n",
    "print(dic[\"age\"])\n",
    "\n",
    "\n",
    "#to change\n",
    "dic[\"name\"] = \"Phitron\"\n",
    "\n",
    "print(dic)"
   ]
  }
 ],
 "metadata": {
  "kernelspec": {
   "display_name": "base",
   "language": "python",
   "name": "python3"
  },
  "language_info": {
   "codemirror_mode": {
    "name": "ipython",
    "version": 3
   },
   "file_extension": ".py",
   "mimetype": "text/x-python",
   "name": "python",
   "nbconvert_exporter": "python",
   "pygments_lexer": "ipython3",
   "version": "3.13.5"
  }
 },
 "nbformat": 4,
 "nbformat_minor": 2
}
