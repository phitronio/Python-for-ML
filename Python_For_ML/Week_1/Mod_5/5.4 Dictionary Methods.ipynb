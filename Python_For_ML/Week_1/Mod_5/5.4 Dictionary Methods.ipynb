{
 "cells": [
  {
   "cell_type": "code",
   "execution_count": 4,
   "metadata": {},
   "outputs": [
    {
     "name": "stdout",
     "output_type": "stream",
     "text": [
      "Initial dictionary: {'name': 'Alice', 'age': 30, 'city': 'New York'}\n"
     ]
    }
   ],
   "source": [
    "# Creating a dictionary\n",
    "my_dict = {\n",
    "    \"name\": \"Alice\",\n",
    "    \"age\": 30,\n",
    "    \"city\": \"New York\"\n",
    "}\n",
    "\n",
    "print(f\"Initial dictionary: {my_dict}\")\n",
    "\n"
   ]
  },
  {
   "cell_type": "code",
   "execution_count": null,
   "metadata": {},
   "outputs": [],
   "source": [
    "# 1. get() - Safely retrieve a value by key, with an optional default\n",
    "age = my_dict.get(\"age\")\n",
    "print(f\"Age using get(): {age}\")\n",
    "\n",
    "country = my_dict.get(\"country\", \"Unknown\")\n",
    "print(f\"Country using get() with default: {country}\")\n"
   ]
  },
  {
   "cell_type": "code",
   "execution_count": null,
   "metadata": {},
   "outputs": [],
   "source": [
    "# 2. update() - Add or update key-value pairs\n",
    "my_dict.update({\"occupation\": \"Engineer\", \"age\": 31})\n",
    "print(f\"Dictionary after update(): {my_dict}\")\n"
   ]
  },
  {
   "cell_type": "code",
   "execution_count": null,
   "metadata": {},
   "outputs": [],
   "source": [
    "# 3. keys() - Get a view of all keys\n",
    "keys = my_dict.keys()\n",
    "print(f\"Keys: {list(keys)}\")"
   ]
  },
  {
   "cell_type": "code",
   "execution_count": null,
   "metadata": {},
   "outputs": [],
   "source": [
    "# 4. values() - Get a view of all values\n",
    "values = my_dict.values()\n",
    "print(f\"Values: {list(values)}\")\n",
    "\n",
    "# 5. items() - Get a view of all key-value pairs as tuples\n",
    "items = my_dict.items()\n",
    "print(f\"Items: {list(items)}\")"
   ]
  },
  {
   "cell_type": "code",
   "execution_count": null,
   "metadata": {},
   "outputs": [],
   "source": [
    "# 6. pop() - Remove a key-value pair by key and return its value\n",
    "removed_city = my_dict.pop(\"city\")\n",
    "print(f\"Removed city: {removed_city}\")\n",
    "print(f\"Dictionary after pop(): {my_dict}\")\n",
    "\n",
    "# 7. popitem() - Remove and return the last inserted key-value pair (as a tuple)\n",
    "#   Note: In older Python versions, popitem() removed an arbitrary item.\n",
    "removed_item = my_dict.popitem()\n",
    "print(f\"Removed item using popitem(): {removed_item}\")\n",
    "print(f\"Dictionary after popitem(): {my_dict}\")"
   ]
  },
  {
   "cell_type": "code",
   "execution_count": 2,
   "metadata": {},
   "outputs": [
    {
     "name": "stdout",
     "output_type": "stream",
     "text": [
      "Dictionary after clear(): {}\n",
      "Original dictionary: {'a': 1, 'b': 2}\n",
      "Copied dictionary: {'a': 1, 'b': 2}\n",
      "Original dictionary after modifying copy: {'a': 1, 'b': 2}\n",
      "Copied dictionary after modification: {'a': 1, 'b': 2, 'c': 3}\n"
     ]
    }
   ],
   "source": [
    "# 8. clear() - Remove all items from the dictionary\n",
    "my_dict.clear()\n",
    "print(f\"Dictionary after clear(): {my_dict}\")\n",
    "\n",
    "# 9. copy() - Create a shallow copy of the dictionary\n",
    "original_dict = {\"a\": 1, \"b\": 2}\n",
    "copied_dict = original_dict.copy()\n",
    "print(f\"Original dictionary: {original_dict}\")\n",
    "print(f\"Copied dictionary: {copied_dict}\")\n",
    "copied_dict[\"c\"] = 3\n",
    "print(f\"Original dictionary after modifying copy: {original_dict}\")\n",
    "print(f\"Copied dictionary after modification: {copied_dict}\")\n"
   ]
  },
  {
   "cell_type": "code",
   "execution_count": 3,
   "metadata": {},
   "outputs": [
    {
     "name": "stdout",
     "output_type": "stream",
     "text": [
      "Font size set with setdefault(): 12\n",
      "Settings after setdefault(): {'theme': 'dark', 'font_size': 12}\n",
      "Theme after setdefault() on existing key: dark\n",
      "Settings after second setdefault(): {'theme': 'dark', 'font_size': 12}\n"
     ]
    }
   ],
   "source": [
    "# 10. setdefault() - Insert a key with a default value if the key is not already present\n",
    "settings = {\"theme\": \"dark\"}\n",
    "font_size = settings.setdefault(\"font_size\", 12)\n",
    "print(f\"Font size set with setdefault(): {font_size}\")\n",
    "print(f\"Settings after setdefault(): {settings}\")\n",
    "\n",
    "# Trying to set an existing key with setdefault() does not change its value\n",
    "theme = settings.setdefault(\"theme\", \"light\")\n",
    "print(f\"Theme after setdefault() on existing key: {theme}\")\n",
    "print(f\"Settings after second setdefault(): {settings}\")"
   ]
  }
 ],
 "metadata": {
  "kernelspec": {
   "display_name": "Python 3",
   "language": "python",
   "name": "python3"
  },
  "language_info": {
   "codemirror_mode": {
    "name": "ipython",
    "version": 3
   },
   "file_extension": ".py",
   "mimetype": "text/x-python",
   "name": "python",
   "nbconvert_exporter": "python",
   "pygments_lexer": "ipython3",
   "version": "3.13.7"
  }
 },
 "nbformat": 4,
 "nbformat_minor": 2
}
