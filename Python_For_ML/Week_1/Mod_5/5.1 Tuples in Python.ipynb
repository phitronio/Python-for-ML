{
 "cells": [
  {
   "cell_type": "code",
   "execution_count": 3,
   "metadata": {},
   "outputs": [
    {
     "name": "stdout",
     "output_type": "stream",
     "text": [
      "<class 'tuple'> (10, 22, 33)\n"
     ]
    }
   ],
   "source": [
    "tup = (10,30,50,60)\n",
    "float_tup = (10.5,102)\n",
    "#print(type(float_tup),float_tup)\n",
    "\n",
    "mixed_tup = (10,33, \"str\", True)\n",
    "#print(mixed_tup)\n",
    "\n",
    "lst =[10,22,33]\n",
    "tuple1 =tuple(lst)\n",
    "print(type(tuple1), tuple1)"
   ]
  },
  {
   "cell_type": "code",
   "execution_count": 4,
   "metadata": {},
   "outputs": [
    {
     "name": "stdout",
     "output_type": "stream",
     "text": [
      "(10, 30, 50)\n"
     ]
    }
   ],
   "source": [
    "new_tup = tup[0:3]\n",
    "print(new_tup)"
   ]
  },
  {
   "cell_type": "code",
   "execution_count": 5,
   "metadata": {},
   "outputs": [
    {
     "name": "stdout",
     "output_type": "stream",
     "text": [
      "[10, 22, 33, 444]\n"
     ]
    }
   ],
   "source": [
    "lst.append(444)\n",
    "print(lst)"
   ]
  },
  {
   "cell_type": "code",
   "execution_count": 12,
   "metadata": {},
   "outputs": [
    {
     "name": "stdout",
     "output_type": "stream",
     "text": [
      "3\n",
      "3\n"
     ]
    }
   ],
   "source": [
    "tup_double= (10,10,10,50,50,66,)\n",
    "print(tup_double.count(10))\n",
    "\n",
    "print(tup_double.index(50))"
   ]
  }
 ],
 "metadata": {
  "kernelspec": {
   "display_name": "base",
   "language": "python",
   "name": "python3"
  },
  "language_info": {
   "codemirror_mode": {
    "name": "ipython",
    "version": 3
   },
   "file_extension": ".py",
   "mimetype": "text/x-python",
   "name": "python",
   "nbconvert_exporter": "python",
   "pygments_lexer": "ipython3",
   "version": "3.13.5"
  }
 },
 "nbformat": 4,
 "nbformat_minor": 2
}
