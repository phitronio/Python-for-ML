{
 "cells": [
  {
   "cell_type": "code",
   "execution_count": 4,
   "metadata": {},
   "outputs": [
    {
     "name": "stdout",
     "output_type": "stream",
     "text": [
      "dict_keys(['name', 'age', 'address', 'numbers'])\n",
      "dict_keys(['name', 'age', 'address', 'numbers', 'math'])\n",
      "dict_values(['Phitron', 20, 'Dhaka', [10, 20, 30], 33])\n",
      "dict_values(['Phitron', 20, 'Dhaka', [10, 20, 30], 40])\n",
      "dict_items([('name', 'Phitron'), ('age', 20), ('address', 'Dhaka'), ('numbers', [10, 20, 30]), ('math', 40)])\n"
     ]
    }
   ],
   "source": [
    "dic ={ \"name\" : \"Phitron\" , \"age\": 20 , \"address\" : \"Dhaka\" , \"numbers\":[10,20,30]} \n",
    "\n",
    "keys = dic.keys()\n",
    "print(keys)\n",
    "\n",
    "dic[\"math\"] = 33\n",
    "\n",
    "print(keys)\n",
    "\n",
    "values = dic.values()\n",
    "print(values)\n",
    "\n",
    "\n",
    "dic[\"math\"] = 40\n",
    "print(values)\n",
    "\n",
    "items = dic.items()\n",
    "\n",
    "print(items)"
   ]
  },
  {
   "cell_type": "code",
   "execution_count": 5,
   "metadata": {},
   "outputs": [
    {
     "name": "stdout",
     "output_type": "stream",
     "text": [
      "name Phitron\n",
      "age 20\n",
      "address Dhaka\n",
      "numbers [10, 20, 30]\n",
      "math 40\n"
     ]
    }
   ],
   "source": [
    "for keys, values in dic.items():\n",
    "    print(keys,values)"
   ]
  }
 ],
 "metadata": {
  "kernelspec": {
   "display_name": "Python 3",
   "language": "python",
   "name": "python3"
  },
  "language_info": {
   "codemirror_mode": {
    "name": "ipython",
    "version": 3
   },
   "file_extension": ".py",
   "mimetype": "text/x-python",
   "name": "python",
   "nbconvert_exporter": "python",
   "pygments_lexer": "ipython3",
   "version": "3.13.7"
  }
 },
 "nbformat": 4,
 "nbformat_minor": 2
}
