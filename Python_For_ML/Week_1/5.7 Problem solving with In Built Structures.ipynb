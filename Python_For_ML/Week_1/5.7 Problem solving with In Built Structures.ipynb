{
 "cells": [
  {
   "cell_type": "code",
   "execution_count": 1,
   "metadata": {},
   "outputs": [
    {
     "name": "stdout",
     "output_type": "stream",
     "text": [
      "[34, 98, 12, 13, 76, 7666, 87, 56, 799]\n"
     ]
    }
   ],
   "source": [
    "last = [12,12,13,34,56,76,87,98,799,7666]\n",
    "\n",
    "unique_val = set(last)\n",
    "\n",
    "last=list(unique_val)\n",
    "\n",
    "print(last)"
   ]
  },
  {
   "cell_type": "code",
   "execution_count": 6,
   "metadata": {},
   "outputs": [
    {
     "name": "stdout",
     "output_type": "stream",
     "text": [
      "{'A': 1, '25-year-old': 1, 'man': 1, 'is': 3, 'dead': 1, 'and': 2, 'six': 1, 'others': 1, 'were': 2, 'injured': 1, 'in': 3, 'a': 4, 'shooting': 1, 'during': 2, 'homecoming': 1, 'celebration': 1, 'at': 1, 'Lincoln': 2, 'University': 1, 'Pennsylvania,': 1, 'Saturday': 1, 'night,': 1, 'the': 7, 'Chester': 1, 'County': 1, 'district': 1, 'attorney': 1, 'announced.': 1, 'District': 1, 'Attorney': 1, 'Christopher': 1, 'de': 2, 'Barrena-Sarobe': 2, 'said': 2, 'one': 2, 'person': 1, 'who': 2, 'had': 1, 'gun': 1, 'has': 1, 'since': 1, 'been': 1, 'detained.': 1, 'Jujuan': 1, 'Jeffers,': 1, 'of': 3, 'Wilmington,': 1, 'Delaware,': 1, 'died': 1, 'shooting,': 1, 'press': 1, 'conference': 1, 'on': 1, 'Sunday.': 1, 'One': 1, 'current': 1, 'student': 1, 'among': 1, 'wounded,': 1, 'as': 1, 'graduate': 1, 'school.': 1, 'The': 1, 'other': 1, 'people': 1, 'hurt': 1, 'are': 3, 'not': 1, 'directly': 1, 'connected': 1, 'to': 3, 'university,': 1, 'DA': 1, 'said.': 1, 'All': 1, 'victims': 1, '20': 1, '25': 1, 'years': 1, 'old': 1, 'expected': 1, 'survive.': 1}\n",
      "count of A is 1\n",
      "count of 25-year-old is 1\n",
      "count of man is 1\n",
      "count of is is 3\n",
      "count of dead is 1\n",
      "count of and is 2\n",
      "count of six is 1\n",
      "count of others is 1\n",
      "count of were is 2\n",
      "count of injured is 1\n",
      "count of in is 3\n",
      "count of a is 4\n",
      "count of shooting is 1\n",
      "count of during is 2\n",
      "count of homecoming is 1\n",
      "count of celebration is 1\n",
      "count of at is 1\n",
      "count of Lincoln is 2\n",
      "count of University is 1\n",
      "count of Pennsylvania, is 1\n",
      "count of Saturday is 1\n",
      "count of night, is 1\n",
      "count of the is 7\n",
      "count of Chester is 1\n",
      "count of County is 1\n",
      "count of district is 1\n",
      "count of attorney is 1\n",
      "count of announced. is 1\n",
      "count of District is 1\n",
      "count of Attorney is 1\n",
      "count of Christopher is 1\n",
      "count of de is 2\n",
      "count of Barrena-Sarobe is 2\n",
      "count of said is 2\n",
      "count of one is 2\n",
      "count of person is 1\n",
      "count of who is 2\n",
      "count of had is 1\n",
      "count of gun is 1\n",
      "count of has is 1\n",
      "count of since is 1\n",
      "count of been is 1\n",
      "count of detained. is 1\n",
      "count of Jujuan is 1\n",
      "count of Jeffers, is 1\n",
      "count of of is 3\n",
      "count of Wilmington, is 1\n",
      "count of Delaware, is 1\n",
      "count of died is 1\n",
      "count of shooting, is 1\n",
      "count of press is 1\n",
      "count of conference is 1\n",
      "count of on is 1\n",
      "count of Sunday. is 1\n",
      "count of One is 1\n",
      "count of current is 1\n",
      "count of student is 1\n",
      "count of among is 1\n",
      "count of wounded, is 1\n",
      "count of as is 1\n",
      "count of graduate is 1\n",
      "count of school. is 1\n",
      "count of The is 1\n",
      "count of other is 1\n",
      "count of people is 1\n",
      "count of hurt is 1\n",
      "count of are is 3\n",
      "count of not is 1\n",
      "count of directly is 1\n",
      "count of connected is 1\n",
      "count of to is 3\n",
      "count of university, is 1\n",
      "count of DA is 1\n",
      "count of said. is 1\n",
      "count of All is 1\n",
      "count of victims is 1\n",
      "count of 20 is 1\n",
      "count of 25 is 1\n",
      "count of years is 1\n",
      "count of old is 1\n",
      "count of expected is 1\n",
      "count of survive. is 1\n"
     ]
    }
   ],
   "source": [
    "string=\"\"\"A 25-year-old man is dead and six others were injured in a shooting during a homecoming celebration at Lincoln University in Pennsylvania, Saturday night, the Chester County district attorney announced.\n",
    "\n",
    "District Attorney Christopher de Barrena-Sarobe said one person who had a gun has since been detained.  \n",
    "\n",
    "Jujuan Jeffers, of Wilmington, Delaware, died in the shooting, de Barrena-Sarobe said during a press conference on Sunday.\n",
    "\n",
    "One current Lincoln student is among the wounded, as is one graduate of the school. The other people who were hurt are not directly connected to the university, the DA said. All of the victims are 20 to 25 years old and are expected to survive.\"\"\"\n",
    "\n",
    "words = string.split()\n",
    "\n",
    "count = {}\n",
    "for word in words:\n",
    "    count[word] = count.get(word,0) +1\n",
    "\n",
    "#print(count)\n",
    "\n",
    "for k,v in count.items():\n",
    "    print(f\"count of {k} is {v}\")"
   ]
  }
 ],
 "metadata": {
  "kernelspec": {
   "display_name": "Python 3",
   "language": "python",
   "name": "python3"
  },
  "language_info": {
   "codemirror_mode": {
    "name": "ipython",
    "version": 3
   },
   "file_extension": ".py",
   "mimetype": "text/x-python",
   "name": "python",
   "nbconvert_exporter": "python",
   "pygments_lexer": "ipython3",
   "version": "3.13.7"
  }
 },
 "nbformat": 4,
 "nbformat_minor": 2
}
