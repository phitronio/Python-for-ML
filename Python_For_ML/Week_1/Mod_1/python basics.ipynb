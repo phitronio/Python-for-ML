{
 "cells": [
  {
   "cell_type": "code",
   "execution_count": 1,
   "metadata": {},
   "outputs": [
    {
     "name": "stdout",
     "output_type": "stream",
     "text": [
      "<class 'int'> <class 'str'>\n",
      "<class 'float'>\n"
     ]
    }
   ],
   "source": [
    "age = 20;\n",
    "height = 5.6;\n",
    "name = \"imran\";\n",
    "is_true = True;\n",
    "print(type(age), type(name));\n",
    "age = 20.3;\n",
    "print(type(age));"
   ]
  },
  {
   "cell_type": "code",
   "execution_count": 1,
   "metadata": {},
   "outputs": [
    {
     "name": "stdout",
     "output_type": "stream",
     "text": [
      "5 <class 'int'>\n"
     ]
    }
   ],
   "source": [
    "age = input(\"age?\");\n",
    "age = int(age);\n",
    "print(age , type(age));"
   ]
  },
  {
   "cell_type": "code",
   "execution_count": 2,
   "metadata": {},
   "outputs": [
    {
     "name": "stdout",
     "output_type": "stream",
     "text": [
      "13 7 30 3.33 1\n"
     ]
    }
   ],
   "source": [
    "x = 10 ; y = 3 \n",
    "\n",
    "sum = x + y # summation \n",
    "sub = x - y # subtraction\n",
    "mult = x * y # multiplication\n",
    "div = round(x / y , 2) # division \n",
    "\n",
    "rem = x % y # remainder \n",
    "\n",
    "print(sum , sub , mult, div , rem)"
   ]
  },
  {
   "cell_type": "code",
   "execution_count": 3,
   "metadata": {},
   "outputs": [
    {
     "name": "stdout",
     "output_type": "stream",
     "text": [
      "True True\n",
      "False True\n",
      "False\n",
      "True\n"
     ]
    }
   ],
   "source": [
    "x = 10 ; y = 3 \n",
    "\n",
    "greater_than = x > y \n",
    "\n",
    "greater_than_equal = (10 >= 10)\n",
    "\n",
    "print(greater_than , greater_than_equal)\n",
    "\n",
    "\n",
    "less_than = x < y \n",
    "\n",
    "less_than_equal = (10 <= 10)\n",
    "\n",
    "print(less_than , less_than_equal)\n",
    "\n",
    "\n",
    "\n",
    "equal =  x==y\n",
    "\n",
    "print(equal)\n",
    "\n",
    "\n",
    "not_equal = x != y\n",
    "\n",
    "print(not_equal)"
   ]
  }
 ],
 "metadata": {
  "kernelspec": {
   "display_name": "Python 3",
   "language": "python",
   "name": "python3"
  },
  "language_info": {
   "codemirror_mode": {
    "name": "ipython",
    "version": 3
   },
   "file_extension": ".py",
   "mimetype": "text/x-python",
   "name": "python",
   "nbconvert_exporter": "python",
   "pygments_lexer": "ipython3",
   "version": "3.13.7"
  }
 },
 "nbformat": 4,
 "nbformat_minor": 2
}
