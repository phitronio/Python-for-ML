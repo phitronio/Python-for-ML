{
 "cells": [
  {
   "cell_type": "code",
   "id": "initial_id",
   "metadata": {
    "collapsed": true,
    "ExecuteTime": {
     "end_time": "2025-10-31T06:09:15.107782Z",
     "start_time": "2025-10-31T06:09:15.104390Z"
    }
   },
   "source": [
    "#Function\n",
    "\n",
    "def greeting(name1, name2):\n",
    "    print(\"\",name1,name2)\n",
    "\n",
    "greeting(\"Name:Imran\",\"No name\")"
   ],
   "outputs": [
    {
     "name": "stdout",
     "output_type": "stream",
     "text": [
      " Name:Imran No name\n"
     ]
    }
   ],
   "execution_count": 9
  },
  {
   "metadata": {
    "ExecuteTime": {
     "end_time": "2025-10-31T06:16:36.810191Z",
     "start_time": "2025-10-31T06:16:36.806839Z"
    }
   },
   "cell_type": "code",
   "source": [
    "def info(name, age, country=\"Bangladesh\"):\n",
    "    print(f\"{name}, {age}, {country}\")\n",
    "\n",
    "info(name=\"Imran\", age=33)"
   ],
   "id": "acaeed1d9b68052e",
   "outputs": [
    {
     "name": "stdout",
     "output_type": "stream",
     "text": [
      "Imran,33,Bangladesh\n"
     ]
    }
   ],
   "execution_count": 16
  },
  {
   "metadata": {},
   "cell_type": "code",
   "outputs": [],
   "execution_count": null,
   "source": [
    "def add(*a):\n",
    "    print(type(a))\n",
    "    print(a)\n",
    "\n",
    "add(1,2,3,4,5,6,7,8)\n"
   ],
   "id": "7fe23e1992acb36"
  },
  {
   "metadata": {
    "ExecuteTime": {
     "end_time": "2025-10-31T06:31:38.857863Z",
     "start_time": "2025-10-31T06:31:38.853608Z"
    }
   },
   "cell_type": "code",
   "source": [
    "def info(**k):\n",
    "    print(type(k))\n",
    "    print(f\"{k['name']}, {k['age']}, {k['country']}\")\n",
    "\n",
    "info(name=\"Imran\", age=33, country=\"Bangladesh\")"
   ],
   "id": "8813dd2b2692de1c",
   "outputs": [
    {
     "name": "stdout",
     "output_type": "stream",
     "text": [
      "<class 'dict'>\n",
      "Imran, 33, Bangladesh\n"
     ]
    }
   ],
   "execution_count": 20
  },
  {
   "metadata": {},
   "cell_type": "code",
   "outputs": [],
   "execution_count": null,
   "source": "#14 min",
   "id": "f11fc85f47b55ae"
  }
 ],
 "metadata": {
  "kernelspec": {
   "display_name": "Python 3",
   "language": "python",
   "name": "python3"
  },
  "language_info": {
   "codemirror_mode": {
    "name": "ipython",
    "version": 2
   },
   "file_extension": ".py",
   "mimetype": "text/x-python",
   "name": "python",
   "nbconvert_exporter": "python",
   "pygments_lexer": "ipython2",
   "version": "2.7.6"
  }
 },
 "nbformat": 4,
 "nbformat_minor": 5
}
