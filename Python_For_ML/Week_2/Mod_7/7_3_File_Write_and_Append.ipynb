{
  "nbformat": 4,
  "nbformat_minor": 0,
  "metadata": {
    "colab": {
      "provenance": [],
      "authorship_tag": "ABX9TyN5yXq1X2kRZJ49ES+MnVgy",
      "include_colab_link": true
    },
    "kernelspec": {
      "name": "python3",
      "display_name": "Python 3"
    },
    "language_info": {
      "name": "python"
    }
  },
  "cells": [
    {
      "cell_type": "markdown",
      "metadata": {
        "id": "view-in-github",
        "colab_type": "text"
      },
      "source": [
        "<a href=\"https://colab.research.google.com/github/Mofazzal-Hossain-Evan/Python-for-ML/blob/main/Python_For_ML/Week_2/Mod_7/7_3_File_Write_and_Append.ipynb\" target=\"_parent\"><img src=\"https://colab.research.google.com/assets/colab-badge.svg\" alt=\"Open In Colab\"/></a>"
      ]
    },
    {
      "cell_type": "code",
      "execution_count": 1,
      "metadata": {
        "id": "hBTMUPW74gC4"
      },
      "outputs": [],
      "source": [
        "with open(\"./sample_data/sample.txt\",\"w\") as file:\n",
        "     file.write(\"world war 2\")\n",
        "     file.write(\"tell us the history\")"
      ]
    },
    {
      "cell_type": "code",
      "source": [
        "file = open(\"./sample_data/sample.txt\",\"r\")\n",
        "\n",
        "content = file.readlines()\n",
        "content = list(map(str.strip,content))\n",
        "print(content)\n",
        "\n",
        "filter_content = list(filter(lambda x : len(x)>=1,content))\n",
        "print(filter_content)"
      ],
      "metadata": {
        "colab": {
          "base_uri": "https://localhost:8080/"
        },
        "id": "MHGPsQNJBS05",
        "outputId": "6406108e-06b6-4820-e2dc-d8f00c423e30"
      },
      "execution_count": 9,
      "outputs": [
        {
          "output_type": "stream",
          "name": "stdout",
          "text": [
            "['world war 2tell us the history']\n",
            "['world war 2tell us the history']\n"
          ]
        }
      ]
    }
  ]
}