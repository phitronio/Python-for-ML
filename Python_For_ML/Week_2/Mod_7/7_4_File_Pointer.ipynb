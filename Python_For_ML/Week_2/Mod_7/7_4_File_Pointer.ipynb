{
  "nbformat": 4,
  "nbformat_minor": 0,
  "metadata": {
    "colab": {
      "provenance": []
    },
    "kernelspec": {
      "name": "python3",
      "display_name": "Python 3"
    },
    "language_info": {
      "name": "python"
    }
  },
  "cells": [
    {
      "cell_type": "code",
      "execution_count": null,
      "metadata": {
        "id": "WorEhFdoNIai",
        "colab": {
          "base_uri": "https://localhost:8080/"
        },
        "outputId": "deea6ef9-633e-473a-bfc5-e3dd17e72c0c"
      },
      "outputs": [
        {
          "output_type": "stream",
          "name": "stdout",
          "text": [
            "0\n",
            "1 hllo wrld\n",
            "2 wlcom to ai\n",
            "3 lets enjoy\n",
            "40\n"
          ]
        }
      ],
      "source": [
        "with open(\"./sample_data/test.txt\",\"r\") as file:\n",
        "      print(file.tell())\n",
        "      print(file.read())\n",
        "\n",
        "      print(file.tell())"
      ]
    },
    {
      "cell_type": "code",
      "source": [
        "with open(\"./sample_data/test.txt\",\"r\") as file:\n",
        "      print(file.tell())\n",
        "      print(file.read(10))\n",
        "      print(file.tell())\n"
      ],
      "metadata": {
        "colab": {
          "base_uri": "https://localhost:8080/"
        },
        "id": "hfZsD6gIkqe9",
        "outputId": "68a91934-c093-40dd-a7dd-62c1e241950e"
      },
      "execution_count": null,
      "outputs": [
        {
          "output_type": "stream",
          "name": "stdout",
          "text": [
            "0\n",
            "1 hllo wrl\n",
            "10\n"
          ]
        }
      ]
    },
    {
      "cell_type": "code",
      "source": [
        "with open(\"./sample_data/test.txt\",\"r\") as file:\n",
        "      print(file.tell())\n",
        "\n",
        "      file.seek(5)\n",
        "      print(file.tell())\n",
        "      print(file.seek(0))\n",
        "      print(file.tell())\n",
        "\n",
        ""
      ],
      "metadata": {
        "colab": {
          "base_uri": "https://localhost:8080/"
        },
        "id": "UlXbALrMZfVm",
        "outputId": "4ef8671f-4194-40e3-b13d-35c977457dfa"
      },
      "execution_count": 7,
      "outputs": [
        {
          "output_type": "stream",
          "name": "stdout",
          "text": [
            "0\n",
            "5\n",
            "0\n",
            "0\n"
          ]
        }
      ]
    }
  ]
}