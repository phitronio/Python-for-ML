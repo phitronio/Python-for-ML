{
  "nbformat": 4,
  "nbformat_minor": 0,
  "metadata": {
    "colab": {
      "provenance": []
    },
    "kernelspec": {
      "name": "python3",
      "display_name": "Python 3"
    },
    "language_info": {
      "name": "python"
    }
  },
  "cells": [
    {
      "cell_type": "code",
      "execution_count": 12,
      "metadata": {
        "colab": {
          "base_uri": "https://localhost:8080/"
        },
        "id": "vvO5UP75eZ_7",
        "outputId": "179b679e-f5a0-4368-e65d-44463d4171cb"
      },
      "outputs": [
        {
          "output_type": "stream",
          "name": "stdout",
          "text": [
            "['What is a valid proof of education?\\n', 'Good proof types indicate academic affiliation documentation most likely to help you be approved.\\n', 'Fair proof types may lower your chances of being approved.\\n', 'Poor proof types are unlikely to be acceptable.']\n",
            "[7, 14, 10, 8]\n",
            "['What is a valid proof of education?', 'Good proof types indicate academic affiliation documentation most likely to help you be approved.', 'Fair proof types may lower your chances of being approved.', 'Poor proof types are unlikely to be acceptable.']\n",
            "[]\n",
            "[]\n",
            "[]\n"
          ]
        }
      ],
      "source": [
        "with open(\"./sample_data/test.txt\",\"r\") as file:\n",
        "   strings = file.readlines()\n",
        "   print(strings)\n",
        "\n",
        "   total_lines = len(strings)\n",
        "\n",
        "   number_ofWords = list(map(lambda x : len(x.split()),strings))\n",
        "\n",
        "   print(number_ofWords)\n",
        "\n",
        "\n",
        "   strings = list(map(str.strip,strings))\n",
        "   print(strings)\n",
        "\n",
        "   string_list = file.readlines()\n",
        "   print(string_list)\n",
        "\n",
        "   string_list = list(map(lambda x : x.replace(\" \",\"\"),string_list))\n",
        "   print(string_list)\n",
        "\n",
        "   number_of_char = list(map(lambda x : len(x), string_list))\n",
        "\n",
        "   print(number_of_char)\n",
        "\n",
        "\n",
        "\n"
      ]
    },
    {
      "cell_type": "code",
      "source": [
        "from functools import reduce\n",
        "\n",
        "with open(\"./sample_data/test.txt\",\"r\") as file:\n",
        "  string_list = file.readlines()\n",
        "\n",
        "  # total line koita\n",
        "  total_lines = len(string_list)\n",
        "\n",
        "  # word ber korbo\n",
        "  number_of_words = list(map(lambda x : len(x.split()),string_list))\n",
        "  #total words\n",
        "  total_number_of_words = reduce(lambda x,y : x+y ,number_of_words)\n",
        "\n",
        "  #cleaning process\n",
        "\n",
        "  # 1. new line delete\n",
        "  string_list = list(map(str.strip,string_list))\n",
        "\n",
        "  #2. space delete\n",
        "\n",
        "  string_list = list(map(lambda x : x.replace(\" \",\"\"),string_list))\n",
        "\n",
        "  # koita character\n",
        "\n",
        "  number_of_character = list(map(lambda x : len(x),string_list))\n",
        "\n",
        "  # total character\n",
        "  total_number_of_characters = reduce(lambda x,y : x+y ,number_of_character)\n",
        "\n",
        "\n",
        "\n",
        "with open(\"./sample_data/counter_of_string.txt\",\"w\") as file:\n",
        "  file.write(f\"total line: {total_lines}\\ntotal number of words: {total_number_of_words}\\ntotal number of char: {total_number_of_characters}\")\n",
        "\n"
      ],
      "metadata": {
        "id": "E4rAEhMoCqW9"
      },
      "execution_count": 16,
      "outputs": []
    },
    {
      "cell_type": "code",
      "source": [
        "with open(\"./sample_data/writte_read.txt\",\"w+\") as file:\n",
        "  file.write(\"hyeeee\")\n",
        "\n",
        "  print(file.tell)\n",
        "  print(file.seek(0))\n",
        "\n",
        "  print(file.read())\n",
        "\n",
        "  file.truncate(5)\n",
        "  file.seek(0)\n",
        "  print(file.read())"
      ],
      "metadata": {
        "colab": {
          "base_uri": "https://localhost:8080/"
        },
        "id": "vD64QA1PDMDM",
        "outputId": "949d7575-2557-4309-a971-c1306f9fc238"
      },
      "execution_count": 21,
      "outputs": [
        {
          "output_type": "stream",
          "name": "stdout",
          "text": [
            "<built-in method tell of _io.TextIOWrapper object at 0x7d1f4b94f920>\n",
            "0\n",
            "hyeeee\n",
            "hyeee\n"
          ]
        }
      ]
    }
  ]
}