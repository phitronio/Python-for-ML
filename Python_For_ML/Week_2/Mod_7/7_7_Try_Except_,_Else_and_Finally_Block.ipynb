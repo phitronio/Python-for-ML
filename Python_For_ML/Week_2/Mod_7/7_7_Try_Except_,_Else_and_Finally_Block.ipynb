{
  "nbformat": 4,
  "nbformat_minor": 0,
  "metadata": {
    "colab": {
      "provenance": []
    },
    "kernelspec": {
      "name": "python3",
      "display_name": "Python 3"
    },
    "language_info": {
      "name": "python"
    }
  },
  "cells": [
    {
      "cell_type": "code",
      "execution_count": 3,
      "metadata": {
        "colab": {
          "base_uri": "https://localhost:8080/"
        },
        "id": "D0HnYrDaQBhu",
        "outputId": "81357d35-1691-4641-9bca-b7252b36d4b9"
      },
      "outputs": [
        {
          "output_type": "stream",
          "name": "stdout",
          "text": [
            "\n",
            "Gpu is stopped\n"
          ]
        }
      ],
      "source": [
        " #model train\n",
        "\n",
        "\n",
        "try:\n",
        "  file = open(\"./sample_data/data1.txt\",\"r\")\n",
        "except Exception as e:\n",
        "  print(e)\n",
        "else:\n",
        "  # model train\n",
        "  print(file.read())\n",
        "finally:\n",
        "  print(\"Gpu is stopped\")\n",
        "\n"
      ]
    }
  ]
}