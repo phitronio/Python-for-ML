{
 "cells": [
  {
   "cell_type": "code",
   "execution_count": 2,
   "metadata": {},
   "outputs": [
    {
     "name": "stdout",
     "output_type": "stream",
     "text": [
      "10 20\n"
     ]
    }
   ],
   "source": [
    "def given_predicton():\n",
    "    return 10,20\n",
    "\n",
    "type(given_predicton())\n",
    "\n",
    "#ubpack\n",
    "x , y = given_predicton()\n",
    "\n",
    "print(x,y)"
   ]
  },
  {
   "cell_type": "code",
   "execution_count": 7,
   "metadata": {},
   "outputs": [
    {
     "name": "stdout",
     "output_type": "stream",
     "text": [
      "[10, 20] [22, 33]\n"
     ]
    }
   ],
   "source": [
    "def given_predicton():\n",
    "    a =[10,20]\n",
    "    b=[22,33]\n",
    "    return a,b\n",
    "\n",
    "\n",
    "type(given_predicton())\n",
    "\n",
    "#ubpack\n",
    "x , y = given_predicton()\n",
    "\n",
    "print(x,y)"
   ]
  },
  {
   "cell_type": "code",
   "execution_count": 12,
   "metadata": {},
   "outputs": [
    {
     "name": "stdout",
     "output_type": "stream",
     "text": [
      "<class 'set'>\n"
     ]
    }
   ],
   "source": [
    "def give_predicton():\n",
    "    a ={10,23,44}\n",
    "    return a\n",
    "\n",
    "x = give_predicton()\n",
    "\n",
    "print(type(x))\n"
   ]
  },
  {
   "cell_type": "code",
   "execution_count": 17,
   "metadata": {},
   "outputs": [
    {
     "name": "stdout",
     "output_type": "stream",
     "text": [
      "<class 'dict'>\n",
      "ivan\n",
      "Laptop\n"
     ]
    }
   ],
   "source": [
    "def give_predic():\n",
    "    return {\"ivan\": \"jama\", \"Laptop\":\"333\"},{\"ivan\": \"jama\", \"Laptop\":\"333\"}\n",
    "\n",
    "x,y = give_predic()\n",
    "\n",
    "print(type(x))\n",
    "\n",
    "for item in x:\n",
    "    print(item)"
   ]
  }
 ],
 "metadata": {
  "kernelspec": {
   "display_name": "Python 3",
   "language": "python",
   "name": "python3"
  },
  "language_info": {
   "codemirror_mode": {
    "name": "ipython",
    "version": 3
   },
   "file_extension": ".py",
   "mimetype": "text/x-python",
   "name": "python",
   "nbconvert_exporter": "python",
   "pygments_lexer": "ipython3",
   "version": "3.13.7"
  }
 },
 "nbformat": 4,
 "nbformat_minor": 2
}
