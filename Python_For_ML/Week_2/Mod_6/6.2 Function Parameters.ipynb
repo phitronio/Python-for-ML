{
 "cells": [
  {
   "cell_type": "code",
   "execution_count": 6,
   "metadata": {},
   "outputs": [
    {
     "name": "stdout",
     "output_type": "stream",
     "text": [
      "hello salam\n"
     ]
    }
   ],
   "source": [
    "def greet(user = \"imran\"):\n",
    "    print(f\"hello {user}\")\n",
    "\n",
    "greet(\"salam\")"
   ]
  },
  {
   "cell_type": "code",
   "execution_count": 18,
   "metadata": {},
   "outputs": [
    {
     "name": "stdout",
     "output_type": "stream",
     "text": [
      "10 20\n",
      "510\n"
     ]
    }
   ],
   "source": [
    "def squer_add(a,b):\n",
    "    print(f\"{a} {b}\")\n",
    "    a=a**2\n",
    "    b=b**2\n",
    "    return a+b \n",
    "\n",
    "ans = squer_add(10,20) +10\n",
    "print(ans)"
   ]
  },
  {
   "cell_type": "code",
   "execution_count": 17,
   "metadata": {},
   "outputs": [
    {
     "name": "stdout",
     "output_type": "stream",
     "text": [
      "500\n"
     ]
    }
   ],
   "source": [
    "def squer_addition(*args):\n",
    "    summetion =0\n",
    "    for i in args:\n",
    "        i=i**2\n",
    "        summetion+=i\n",
    "    return summetion\n",
    "\n",
    "ans1 = squer_addition(10,20) \n",
    "print(ans1)"
   ]
  },
  {
   "cell_type": "code",
   "execution_count": 28,
   "metadata": {},
   "outputs": [
    {
     "name": "stdout",
     "output_type": "stream",
     "text": [
      "name : ivan\n",
      "clas : 11\n",
      "roll : 33\n"
     ]
    }
   ],
   "source": [
    "def student(**Kwargs):\n",
    "    for key,val in Kwargs.items():\n",
    "        print(f\"{key} : {val}\")\n",
    "\n",
    "student(name = \"ivan\", clas =11, roll=33)"
   ]
  },
  {
   "cell_type": "code",
   "execution_count": 25,
   "metadata": {},
   "outputs": [
    {
     "ename": "SyntaxError",
     "evalue": "invalid syntax (2196713934.py, line 1)",
     "output_type": "error",
     "traceback": [
      "  \u001b[36mCell\u001b[39m\u001b[36m \u001b[39m\u001b[32mIn[25]\u001b[39m\u001b[32m, line 1\u001b[39m\n\u001b[31m    \u001b[39m\u001b[31mstudent(name = \"ivan\", class =11, roll=33)\u001b[39m\n                           ^\n\u001b[31mSyntaxError\u001b[39m\u001b[31m:\u001b[39m invalid syntax\n"
     ]
    }
   ],
   "source": []
  },
  {
   "cell_type": "markdown",
   "metadata": {},
   "source": []
  }
 ],
 "metadata": {
  "kernelspec": {
   "display_name": "Python 3",
   "language": "python",
   "name": "python3"
  },
  "language_info": {
   "codemirror_mode": {
    "name": "ipython",
    "version": 3
   },
   "file_extension": ".py",
   "mimetype": "text/x-python",
   "name": "python",
   "nbconvert_exporter": "python",
   "pygments_lexer": "ipython3",
   "version": "3.13.7"
  }
 },
 "nbformat": 4,
 "nbformat_minor": 2
}
