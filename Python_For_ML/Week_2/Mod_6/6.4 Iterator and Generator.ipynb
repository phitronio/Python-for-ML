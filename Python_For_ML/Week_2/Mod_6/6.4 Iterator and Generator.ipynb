{
 "cells": [
  {
   "cell_type": "code",
   "execution_count": 5,
   "metadata": {},
   "outputs": [
    {
     "name": "stdout",
     "output_type": "stream",
     "text": [
      "40\n",
      "10\n",
      "\n",
      "40\n",
      "10\n",
      "60\n",
      "78\n"
     ]
    }
   ],
   "source": [
    "s = {10,40,60,78}\n",
    "\n",
    "s_iter = iter(s)\n",
    "print(next(s_iter))\n",
    "print(next(s_iter))\n",
    "print(\"\")\n",
    "for i in s:\n",
    "    print(  i)"
   ]
  },
  {
   "cell_type": "code",
   "execution_count": 16,
   "metadata": {},
   "outputs": [
    {
     "name": "stdout",
     "output_type": "stream",
     "text": [
      "[0, 1, 2, 3, 4]\n"
     ]
    }
   ],
   "source": [
    "lst = [x for x in range(500)]\n",
    "\n",
    "def data_load(chunk_sz,lst):\n",
    "    for i in range(0,len(lst), chunk_sz):\n",
    "        yield lst[i:i+chunk_sz]\n",
    "\n",
    "x = data_load(5,lst)\n",
    "print(next(x))"
   ]
  }
 ],
 "metadata": {
  "kernelspec": {
   "display_name": "Python 3",
   "language": "python",
   "name": "python3"
  },
  "language_info": {
   "codemirror_mode": {
    "name": "ipython",
    "version": 3
   },
   "file_extension": ".py",
   "mimetype": "text/x-python",
   "name": "python",
   "nbconvert_exporter": "python",
   "pygments_lexer": "ipython3",
   "version": "3.13.7"
  }
 },
 "nbformat": 4,
 "nbformat_minor": 2
}
