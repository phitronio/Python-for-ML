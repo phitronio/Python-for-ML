{
  "nbformat": 4,
  "nbformat_minor": 0,
  "metadata": {
    "colab": {
      "provenance": []
    },
    "kernelspec": {
      "name": "python3",
      "display_name": "Python 3"
    },
    "language_info": {
      "name": "python"
    }
  },
  "cells": [
    {
      "cell_type": "code",
      "execution_count": null,
      "metadata": {
        "id": "JJSBukFswts_"
      },
      "outputs": [],
      "source": [
        "from abc import  ABC , abstractmethod\n",
        "\n",
        "class Telephone(ABC):\n",
        "\n",
        "  @abstractmethod\n",
        "  def make_call(self):\n",
        "    pass\n",
        "\n",
        "\n",
        "\n",
        "class Sphone(Telephone):\n",
        "  def make_call(self):\n",
        "    print(\"Making a call using SPhone\")\n",
        "\n",
        "\n",
        "\n",
        "class Iphone(Telephone):\n",
        "   def make_call(self):\n",
        "    print(\"Making a call using IPhone\")"
      ]
    }
  ]
}