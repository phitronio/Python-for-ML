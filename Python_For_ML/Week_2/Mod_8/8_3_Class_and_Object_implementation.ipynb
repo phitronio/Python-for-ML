{
  "nbformat": 4,
  "nbformat_minor": 0,
  "metadata": {
    "colab": {
      "provenance": []
    },
    "kernelspec": {
      "name": "python3",
      "display_name": "Python 3"
    },
    "language_info": {
      "name": "python"
    }
  },
  "cells": [
    {
      "cell_type": "code",
      "execution_count": 1,
      "metadata": {
        "colab": {
          "base_uri": "https://localhost:8080/"
        },
        "id": "22gWCKFuWLgk",
        "outputId": "b519e21b-b8a2-43c5-b44e-aefdbd057687"
      },
      "outputs": [
        {
          "output_type": "stream",
          "name": "stdout",
          "text": [
            "I am making a call\n",
            "I am playing a game\n"
          ]
        }
      ],
      "source": [
        "class phone:\n",
        "    def make_call(self):\n",
        "        print(\"I am making a call\")\n",
        "\n",
        "    def play_game(self):\n",
        "        print(\"I am playing a game\")\n",
        "\n",
        "p1 = phone()\n",
        "p1.make_call()\n",
        "p1.play_game()"
      ]
    },
    {
      "cell_type": "code",
      "source": [
        "class phone:\n",
        "  catagory = \"elec\"\n",
        "\n",
        "  def __init__(self,model, battery, camera):\n",
        "    self.model = model\n",
        "    self.battery = battery\n",
        "    self.camera = camera\n",
        "\n",
        "\n",
        "    apple = phone(\"nm\", 200,3)\n",
        "    bluberry = phone(\"nm2\", 300,40)\n",
        "    motorola = phone(\"nm4\",555,7)\n",
        "\n",
        "    print(motorola.model)"
      ],
      "metadata": {
        "id": "BmqeIrVHZ2no"
      },
      "execution_count": 6,
      "outputs": []
    },
    {
      "cell_type": "code",
      "source": [
        "# base class / parent class\n",
        "class Phone:\n",
        "  category = \"Electronics\"\n",
        "\n",
        "  # constructor\n",
        "\n",
        "  def __init__(self,model , battery , camera,battery_percentage=100):\n",
        "    self.model = model\n",
        "    self.battery = battery\n",
        "    self.camera = camera\n",
        "    self.battery_percentage = battery_percentage\n",
        "\n",
        "  # methods\n",
        "  def charge(self,hour):\n",
        "    print(f\"charge completed by {hour}\")\n",
        "\n",
        "  def capture(self,photo):\n",
        "    if(self.battery_percentage)<=0:\n",
        "      print(\"No charge\")\n",
        "    else:\n",
        "      self.battery_percentage-=photo\n",
        "      print(f\"photo captured in {self.model}\")\n",
        "\n",
        "\n",
        "\n",
        "class Cooling_Mechanism:\n",
        "  def __init__(self,cooling_method):\n",
        "    self.cooling_method= cooling_method\n",
        "\n",
        "\n",
        "  #methods\n",
        "  def cooling_on(self):\n",
        "    print(f\"the system is being cool by {self.cooling_method}\")\n",
        "\n",
        "\n"
      ],
      "metadata": {
        "id": "0Ke1hq4Fc4W2"
      },
      "execution_count": null,
      "outputs": []
    }
  ]
}