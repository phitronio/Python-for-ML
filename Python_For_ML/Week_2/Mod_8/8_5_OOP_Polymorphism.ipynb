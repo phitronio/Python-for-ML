{
 "nbformat": 4,
 "nbformat_minor": 0,
 "metadata": {
  "colab": {
   "provenance": []
  },
  "kernelspec": {
   "name": "python3",
   "display_name": "Python 3 (ipykernel)",
   "language": "python"
  },
  "language_info": {
   "name": "python"
  }
 },
 "cells": [
  {
   "cell_type": "code",
   "metadata": {
    "colab": {
     "base_uri": "https://localhost:8080/"
    },
    "id": "fqWWT34jhKqY",
    "outputId": "86757bd7-ad90-43de-d700-d55d3878f99a",
    "ExecuteTime": {
     "end_time": "2025-10-29T16:10:47.553405Z",
     "start_time": "2025-10-29T16:10:47.547215Z"
    }
   },
   "source": [
    "class Camera:\n",
    "  def __init__(self , name):\n",
    "    self.name = name\n",
    "\n",
    " # method\n",
    "  def capture(self):\n",
    "    print(\"a photo is captured\")\n",
    "\n",
    "\n",
    "class Smart_Phone(Camera):\n",
    "  def __init__(self,name,resolution):\n",
    "    super().__init__(name)\n",
    "    self.resolution = resolution\n",
    "\n",
    "  #method overriding\n",
    "  def capture(self):\n",
    "    print(\"Photo is captured by a Phone\")\n",
    "\n",
    "\n",
    "class DSLR(Camera):\n",
    "  def __init__(self,name,resolution):\n",
    "    super().__init__(name)\n",
    "    self.resolution = resolution\n",
    "\n",
    "  def capture(self):\n",
    "    print(\"Photo is captured  by DSLR\")\n",
    "\n",
    "\n",
    "\n",
    "class Drone(Camera):\n",
    "  def __init__(self,name,resolution):\n",
    "    super().__init__(name)\n",
    "    self.resolution = resolution\n",
    "\n",
    "  def capture(self):\n",
    "    print(\"Photo is captured by Drone\")\n",
    "\n",
    "\n",
    "\n",
    "phone = Smart_Phone(\"Phone\",30)\n",
    "dslr = DSLR (\"DSLR\",200)\n",
    "drone = Drone(\"Drone\",150)\n",
    "\n",
    "\n",
    "phone.capture()\n",
    "dslr.capture()\n",
    "drone.capture()\n"
   ],
   "outputs": [
    {
     "name": "stdout",
     "output_type": "stream",
     "text": [
      "Photo is captured by a Phone\n",
      "Photo is captured  by DSLR\n",
      "Photo is captured by Drone\n"
     ]
    }
   ],
   "execution_count": 1
  }
 ]
}
