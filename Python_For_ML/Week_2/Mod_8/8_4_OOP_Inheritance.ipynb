{
  "nbformat": 4,
  "nbformat_minor": 0,
  "metadata": {
    "colab": {
      "provenance": []
    },
    "kernelspec": {
      "name": "python3",
      "display_name": "Python 3"
    },
    "language_info": {
      "name": "python"
    }
  },
  "cells": [
    {
      "cell_type": "code",
      "execution_count": 5,
      "metadata": {
        "id": "ehP0PNjwdZ4y"
      },
      "outputs": [],
      "source": [
        "# base class / parent class\n",
        "class Phone:\n",
        "  category = \"Electronics\"\n",
        "\n",
        "  # constructor\n",
        "\n",
        "  def __init__(self,model , battery , camera,battery_percentage=100):\n",
        "    self.model = model\n",
        "    self.battery = battery\n",
        "    self.camera = camera\n",
        "    self.battery_percentage = battery_percentage\n",
        "\n",
        "  # methods\n",
        "  def charge(self,hour):\n",
        "    print(f\"charge completed by {hour}\")\n",
        "\n",
        "  def capture(self,photo):\n",
        "    if(self.battery_percentage)<=0:\n",
        "      print(\"No charge\")\n",
        "    else:\n",
        "      self.battery_percentage-=photo\n",
        "      print(f\"photo captured in {self.model}\")\n",
        "\n",
        "\n",
        "\n",
        "class Cooling_Mechanism:\n",
        "  def __init__(self,cooling_method):\n",
        "    self.cooling_method= cooling_method\n",
        "\n",
        "\n",
        "  #methods\n",
        "  def cooling_on(self):\n",
        "    print(f\"the system is being cool by {self.cooling_method}\")\n",
        "\n"
      ]
    },
    {
      "cell_type": "code",
      "source": [
        "apple = Phone(\"Iphone17\",3000,40)\n",
        "blueberry = Phone(\"B-17\",4000,30)\n",
        "motorola = Phone(\"M-17\",3500,35)\n",
        "apple.capture(10)\n",
        "print(motorola.battery_percentage)\n"
      ],
      "metadata": {
        "colab": {
          "base_uri": "https://localhost:8080/"
        },
        "id": "E1JCN9WFgLBa",
        "outputId": "2c806d02-4ca8-4cb5-cc2a-1108ef7c3b16"
      },
      "execution_count": 6,
      "outputs": [
        {
          "output_type": "stream",
          "name": "stdout",
          "text": [
            "photo captured in Iphone17\n",
            "100\n"
          ]
        }
      ]
    },
    {
      "cell_type": "code",
      "source": [
        "# child / derived class\n",
        "class SmartPhone(Phone):\n",
        "  def __init__(self,model , battery , camera,processor):\n",
        "    super().__init__(model,battery,camera)\n",
        "    self.processor = processor\n",
        "\n",
        "   ## modified method\n",
        "  def charge(self,hour):\n",
        "    print(\"fast charging in process\")\n",
        "    super().charge(hour)"
      ],
      "metadata": {
        "id": "XNPQMOoAgV9C"
      },
      "execution_count": 7,
      "outputs": []
    },
    {
      "cell_type": "code",
      "source": [
        "class SmartPhone_CoolingMode(SmartPhone,Cooling_Mechanism):\n",
        "   def __init__(self,model , battery , camera,processor,cooling_method):\n",
        "    SmartPhone.__init__(self,model,battery,camera,processor)\n",
        "    Cooling_Mechanism.__init__(self,cooling_method)\n",
        "\n",
        "\n",
        "\n",
        "\n",
        "pro_cooling = SmartPhone_CoolingMode(\"Y\",5000,100,\"SD\",\"Nitrogen\")\n",
        "\n",
        "print(pro_cooling.processor) # SmartPhone class theke\n",
        "print(pro_cooling.battery) # Phone class theke\n",
        "print(pro_cooling.cooling_method) # Cooling_Mechanism class theke\n",
        "print(pro_cooling.cooling_on()) # Cooling_Mechanism class er method\n",
        "print(pro_cooling.charge(1)) # SmartPhone er modified charge jeta Phone class theke inherited"
      ],
      "metadata": {
        "colab": {
          "base_uri": "https://localhost:8080/"
        },
        "id": "ktTClB7-f5H7",
        "outputId": "8acd2288-384c-483a-85ac-f56ee1360c60"
      },
      "execution_count": 8,
      "outputs": [
        {
          "output_type": "stream",
          "name": "stdout",
          "text": [
            "SD\n",
            "5000\n",
            "Nitrogen\n",
            "the system is being cool by Nitrogen\n",
            "None\n",
            "fast charging in process\n",
            "charge completed by 1\n",
            "None\n"
          ]
        }
      ]
    }
  ]
}