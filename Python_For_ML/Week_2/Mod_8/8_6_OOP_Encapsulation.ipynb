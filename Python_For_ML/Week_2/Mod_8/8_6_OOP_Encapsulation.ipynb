{
  "nbformat": 4,
  "nbformat_minor": 0,
  "metadata": {
    "colab": {
      "provenance": []
    },
    "kernelspec": {
      "name": "python3",
      "display_name": "Python 3"
    },
    "language_info": {
      "name": "python"
    }
  },
  "cells": [
    {
      "cell_type": "code",
      "execution_count": null,
      "metadata": {
        "id": "xJ7GCCrQjBtF"
      },
      "outputs": [],
      "source": [
        "# design\n",
        "class Mobile:\n",
        "  def __init__(self,name,model,imei):\n",
        "    self.__name = name\n",
        "    self.__model = model\n",
        "    self.__imei = imei # private\n",
        "\n",
        "  def charge(self):\n",
        "    print(\"phone is charging\")\n",
        "\n",
        "  # method imei ta paite pari\n",
        "  def imei_getter(self):\n",
        "    return self.__imei\n",
        "  def model_getter(self):\n",
        "    return self.__model\n",
        "\n",
        "\n",
        "\n",
        "  def name_getter(self):\n",
        "    return self.__name\n",
        "\n",
        "\n",
        "  def name_setter(self,name):\n",
        "    self.__name = name\n",
        "\n",
        "\n",
        "\n",
        "\n",
        "\n",
        "\n",
        "\n",
        "#outside world ( user )\n",
        "\n",
        "# registration\n",
        "iphone = Mobile(\"Phone\",\"17\",\"1xkaf1\")\n",
        "\n",
        "print(iphone.name_getter())\n",
        "\n",
        "iphone.name_setter(\"Phitron\")\n",
        "\n",
        "\n",
        "print(iphone.name_getter())\n"
      ]
    }
  ]
}