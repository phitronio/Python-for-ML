{
 "cells": [
  {
   "cell_type": "code",
   "id": "initial_id",
   "metadata": {
    "collapsed": true,
    "ExecuteTime": {
     "end_time": "2025-10-30T13:14:39.962846Z",
     "start_time": "2025-10-30T13:14:28.132959Z"
    }
   },
   "source": [
    "#1\n",
    "\n",
    "\n",
    "array = list(map(int, input().split()))\n",
    "\n",
    "even_nums = list(filter(lambda x: x % 2 == 0, array))\n",
    "\n",
    "print(\"Only Even Numbers\",even_nums)\n"
   ],
   "outputs": [
    {
     "name": "stdout",
     "output_type": "stream",
     "text": [
      "Only Even Numbers [6, 8, 10]\n"
     ]
    }
   ],
   "execution_count": 6
  },
  {
   "metadata": {},
   "cell_type": "markdown",
   "source": "",
   "id": "6a360131ffc927a4"
  },
  {
   "metadata": {
    "ExecuteTime": {
     "end_time": "2025-10-30T13:15:59.017919Z",
     "start_time": "2025-10-30T13:15:54.337753Z"
    }
   },
   "cell_type": "code",
   "source": [
    "#2\n",
    "def safe_divide(a, b):\n",
    "    try:\n",
    "        result = a / b\n",
    "        return result\n",
    "    except ZeroDivisionError:\n",
    "        return \"Division by zero\"\n",
    "\n",
    "\n",
    "a, b = map(int, input().split())\n",
    "\n",
    "\n",
    "print(safe_divide(a, b))\n"
   ],
   "id": "99cb683689bdbb56",
   "outputs": [
    {
     "name": "stdout",
     "output_type": "stream",
     "text": [
      "Division by zero\n"
     ]
    }
   ],
   "execution_count": 7
  },
  {
   "metadata": {
    "ExecuteTime": {
     "end_time": "2025-10-30T14:39:34.269634Z",
     "start_time": "2025-10-30T14:39:29.832975Z"
    }
   },
   "cell_type": "code",
   "source": [
    "import math\n",
    "\n",
    "class Shape:\n",
    "    def area(self):\n",
    "        return 0\n",
    "\n",
    "class Rectangle(Shape):\n",
    "    def __init__(self, w, h):\n",
    "        self.w = w\n",
    "        self.h = h\n",
    "\n",
    "    def area(self):\n",
    "        return self.w * self.h\n",
    "\n",
    "class Circle(Shape):\n",
    "    def __init__(self, r):\n",
    "        self.r = r\n",
    "\n",
    "    def area(self):\n",
    "        return math.pi * self.r * self.r\n",
    "\n",
    "\n",
    "data = input().split()\n",
    "shape_type = data[0]\n",
    "\n",
    "if shape_type == \"Rectangle\":\n",
    "    w = float(data[1])\n",
    "    h = float(data[2])\n",
    "    obj = Rectangle(w, h)\n",
    "\n",
    "\n",
    "    print(\"The rectangle area of given data:{:.2f}\".format(obj.area()))\n",
    "\n",
    "elif shape_type == \"Circle\":\n",
    "    r = float(data[1])\n",
    "    obj = Circle(r)\n",
    "\n",
    "\n",
    "    print(\" The circle area of given data: {:.2f}\".format(obj.area()))\n",
    "\n",
    "else:\n",
    "    print(\"Unknown Shape\")\n"
   ],
   "id": "7dd1c5255eee6d4d",
   "outputs": [
    {
     "name": "stdout",
     "output_type": "stream",
     "text": [
      "The rectangle area of given data:50.00\n"
     ]
    }
   ],
   "execution_count": 29
  },
  {
   "metadata": {
    "ExecuteTime": {
     "end_time": "2025-10-30T14:12:25.090600Z",
     "start_time": "2025-10-30T14:12:17.168443Z"
    }
   },
   "cell_type": "code",
   "source": [
    "\n",
    "sentence = input().split()\n",
    "\n",
    "longest = sentence[0]\n",
    "\n",
    "\n",
    "for word in sentence:\n",
    "    if len(word) > len(longest):\n",
    "        longest = word\n",
    "\n",
    "print(longest)\n"
   ],
   "id": "6ba8ea1347d539af",
   "outputs": [
    {
     "name": "stdout",
     "output_type": "stream",
     "text": [
      "tie\n"
     ]
    }
   ],
   "execution_count": 16
  },
  {
   "metadata": {
    "ExecuteTime": {
     "end_time": "2025-10-30T14:38:18.645881Z",
     "start_time": "2025-10-30T14:38:14.815180Z"
    }
   },
   "cell_type": "code",
   "source": [
    "import math\n",
    "\n",
    "\n",
    "my_number = int(input().strip())\n",
    "original = my_number\n",
    "\n",
    "def is_strong(number):\n",
    "        digit_sum = 0\n",
    "        for digit in str(number):\n",
    "            digit_sum += math.factorial(int(digit))\n",
    "        return digit_sum == original\n",
    "\n",
    "\n",
    "if is_strong(my_number):\n",
    "    print(\"Strong Number\")\n",
    "else:\n",
    "    print(\"Not Strong Number\")\n"
   ],
   "id": "f8d51c72a722274f",
   "outputs": [
    {
     "name": "stdout",
     "output_type": "stream",
     "text": [
      "Not Strong Number\n"
     ]
    }
   ],
   "execution_count": 26
  }
 ],
 "metadata": {
  "kernelspec": {
   "display_name": "Python 3",
   "language": "python",
   "name": "python3"
  },
  "language_info": {
   "codemirror_mode": {
    "name": "ipython",
    "version": 2
   },
   "file_extension": ".py",
   "mimetype": "text/x-python",
   "name": "python",
   "nbconvert_exporter": "python",
   "pygments_lexer": "ipython2",
   "version": "2.7.6"
  }
 },
 "nbformat": 4,
 "nbformat_minor": 5
}
